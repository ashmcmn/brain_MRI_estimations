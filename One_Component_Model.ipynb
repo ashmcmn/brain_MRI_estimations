{
  "nbformat": 4,
  "nbformat_minor": 0,
  "metadata": {
    "colab": {
      "name": "One-Component Model.ipynb",
      "provenance": [],
      "authorship_tag": "ABX9TyMGvLn6NfvcvYQkRSaKF9OT",
      "include_colab_link": true
    },
    "kernelspec": {
      "name": "python3",
      "display_name": "Python 3"
    }
  },
  "cells": [
    {
      "cell_type": "markdown",
      "metadata": {
        "id": "view-in-github",
        "colab_type": "text"
      },
      "source": [
        "<a href=\"https://colab.research.google.com/github/ashmcmn/brain_MRI_estimations/blob/master/One_Component_Model.ipynb\" target=\"_parent\"><img src=\"https://colab.research.google.com/assets/colab-badge.svg\" alt=\"Open In Colab\"/></a>"
      ]
    },
    {
      "cell_type": "markdown",
      "metadata": {
        "id": "TrqtBHE3EWo8"
      },
      "source": [
        ""
      ]
    },
    {
      "cell_type": "code",
      "metadata": {
        "id": "qOfkF-E-EIL8"
      },
      "source": [
        "# dependencies\n",
        "!pip install nibabel\n",
        "!pip install nilearn\n",
        "!pip install transforms3d\n",
        "import nibabel as nb\n",
        "import numpy as np\n",
        "from matplotlib import pyplot as plt\n",
        "from nilearn import plotting as nlp\n",
        "from pandas import concat\n",
        "import transforms3d\n",
        "from scipy import ndimage as ndi\n",
        "from google.colab import drive\n",
        "drive.mount('/content/drive')\n",
        "\n",
        "!cp \"/content/drive/My Drive/3rd Year/FYP/slice4_ASE.nii.gz\" \"/content/slice4_ASE.nii.gz\"\n",
        "!yes n | gunzip \"/content/slice4_ASE.nii.gz\""
      ],
      "execution_count": null,
      "outputs": []
    },
    {
      "cell_type": "code",
      "metadata": {
        "id": "HU9Xnw6xEcni"
      },
      "source": [
        "nii = nb.load('slice4_ASE.nii')\n",
        "dim = nii.header.get_data_shape()\n",
        "data = nii.get_fdata()\n",
        "print(data)\n",
        "fig, axes = plt.subplots(2, 5, figsize=(20, 8))\n",
        "axes = axes.ravel()\n",
        "for i in range(10):\n",
        "  axes[i].imshow(np.squeeze(data)[:,:,i], cmap='Greys_r')"
      ],
      "execution_count": null,
      "outputs": []
    },
    {
      "cell_type": "code",
      "metadata": {
        "id": "rEGFg2t_Eexb"
      },
      "source": [
        "# load neuroimaging data\n",
        "nii = nb.load('slice4_ASE.nii')\n",
        "debug = False\n",
        "\n",
        "dim = nii.header.get_data_shape()\n",
        "\n",
        "# defining constants\n",
        "hct = 0.34; # Expected proportion of hematocrit(volume percentage of red blood cells in blood)\n",
        "dChi0 = 0.264*10**-6; # Difference in magnetic susceptibility between the tissue and deoxyhaemoglobin contained within blood vessels\n",
        "gamma = 2.675*10**4; # Proton gyromagnetic ratio\n",
        "B0 = 3*104; # Strength of main magnetic field\n",
        "phi = 1.34; # Oxyphoric capacitiy in mlO2/gHb\n",
        "k = 0.03; # Conversion factor\n",
        "\n",
        "tau = list(range(-16, 65, 8)) # tau is inter-pulse time (τ)\t-16 to 64ms (Δ4)\n",
        "tau = np.array([x *10**-3 for x in tau]) # converting tau to seconds\n",
        "print(tau)\n",
        "ln_Sase = np.log(data)\n",
        "\n",
        "Tc = 0.016 # characteristic time\n",
        "tau_lineID = np.where(tau > Tc)[0] # get indices of tau timings where greater than the characteristic time Tc\n",
        "print(tau_lineID)\n",
        "w = 1. / np.take(tau, tau_lineID).T # create weightings for the least squares method\n",
        "p = np.zeros((dim[0],dim[1],dim[2],2))\n",
        "\n",
        "for i in range(dim[0]): # loop through x coord\n",
        "  for j in range(dim[1]): # loop through y coord\n",
        "    for k in range(dim[2]): # loop through z coord to give voxel\n",
        "      X = tau[tau_lineID] # x coordinates are the time since excitation pulse\n",
        "      Y = ln_Sase[i,j,k,tau_lineID]  # y coordinates are the magnetic signal strength via the BOLD response (-12 due to regime splitting already done)\n",
        "\n",
        "      # apply weights to X and Y, transpose data ready for regression\n",
        "      A = np.vstack([X, np.ones(len(X))]).T\n",
        "      W = np.sqrt(np.diag(np.array(w).flatten()))\n",
        "      Aw = np.dot(W, A)\n",
        "      Yw = np.dot(Y.T, W)\n",
        "\n",
        "      p[i, j, k,:] = np.linalg.lstsq(Aw, Yw.T, rcond=1e-10)[0] # find the least-squares solution for the x and y coordinates\n",
        "      m, c = p[i, j, k,:]\n",
        "      if debug and m == m:\n",
        "        _ = plt.plot(X, Y, 'o', label='Original data', markersize=10)\n",
        "        _ = plt.plot(X, m*tau[tau_lineID] + c, 'r', label='Fitted line')\n",
        "        plt.xlabel('Time since excitation pulse')\n",
        "        plt.ylabel('Signal strength')\n",
        "        _ = plt.legend()\n",
        "        plt.show()\n",
        "      \n",
        "      \n",
        "\n",
        "range_r2p = np.array([0, 7])\n",
        "range_dbv = np.array([0, 0.12])\n",
        "range_oef = np.array([0, 1.0])\n",
        "range_dhb = np.array([0, 10])\n",
        "\n",
        "s0_id = np.where(tau == 0)\n",
        "\n",
        "r2p = -p[:,:,:,0]\n",
        "c = p[:,:,:,1]\n",
        "\n",
        "dbv = c - ln_Sase[:,:,:,s0_id]\n",
        "oef = r2p/(dbv * gamma * (4/3) * dChi0 * hct * B0)\n",
        "dhb = r2p/(dbv * gamma * (4/3) * dChi0 * B0 * k)"
      ],
      "execution_count": null,
      "outputs": []
    }
  ]
}