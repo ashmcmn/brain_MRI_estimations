{
  "nbformat": 4,
  "nbformat_minor": 0,
  "metadata": {
    "colab": {
      "name": "qBOLD Model Prediction.ipynb",
      "provenance": [],
      "collapsed_sections": [],
      "toc_visible": true,
      "authorship_tag": "ABX9TyM6pX5KsuPljLvibqZrxXmV",
      "include_colab_link": true
    },
    "kernelspec": {
      "name": "python3",
      "display_name": "Python 3"
    }
  },
  "cells": [
    {
      "cell_type": "markdown",
      "metadata": {
        "id": "view-in-github",
        "colab_type": "text"
      },
      "source": [
        "<a href=\"https://colab.research.google.com/github/ashmcmn/brain_MRI_estimations/blob/master/qBOLD_Model_Prediction.ipynb\" target=\"_parent\"><img src=\"https://colab.research.google.com/assets/colab-badge.svg\" alt=\"Open In Colab\"/></a>"
      ]
    },
    {
      "cell_type": "markdown",
      "metadata": {
        "id": "SSWurBLYsLo_"
      },
      "source": [
        "# Intro\n",
        "\n",
        "The qBOLD model/method allows for the evaluation of bio-physiological parameters such as oxygen extraction fraction (OEF), deoxygenated blood volume (DBV) and reversible transverse relaxation rate ($R'_2$). This notebook details various implementations of the method in an attempt to maximise the accuracy of these predictions. If you want to read in detail about the theory of qBOLD, I recommend reading the paper \"Quantitative BOLD: Mapping of human cerebral deoxygenated blood volume and oxygen extraction fraction:  Default state\" by He, X. & Yablonskiy, D. A. from 2007."
      ]
    },
    {
      "cell_type": "code",
      "metadata": {
        "id": "XVe-2CtDxJ_m"
      },
      "source": [
        "import nibabel as nib\n",
        "from matplotlib import pyplot as plt\n",
        "import numpy as np\n",
        "import pandas as pd\n",
        "import tensorflow as tf\n",
        "from mlxtend.plotting import plot_decision_regions\n",
        "from sklearn.preprocessing import MinMaxScaler, StandardScaler\n",
        "\n",
        "!gdown --id '1zTZoh71HXmT3EBPkm0ku5ySEcjX3l98l'\n",
        "img = nib.load('slice4_ASE.nii.gz')"
      ],
      "execution_count": null,
      "outputs": []
    },
    {
      "cell_type": "code",
      "metadata": {
        "id": "VznNvWZx5rJH"
      },
      "source": [
        "hct = 0.34; # hct ratio in small vessels\n",
        "dMagSus = 0.264*10**-6; # ppm, sus difference between fully oxy & deoxy rbc's\n",
        "pGyro = 2.675*10**4; # rads/(secs.Gauss) gyromagnetic ratio\n",
        "fStr = 3*10**4; # Gauss, Field strength\n",
        "oCap = 1.34; # mlO2/gHb"
      ],
      "execution_count": 2,
      "outputs": []
    },
    {
      "cell_type": "markdown",
      "metadata": {
        "id": "1MTpnUvI0_b_"
      },
      "source": [
        "# The Data\n",
        "Here's a quick look into the data provided. Typically, when fetching data from a .nii file it is of shape (a, b, c, d) where a and b define the image resolution, c is the number of slices and d is the number time intervals the data was recorded at (post-excitation). The data sample used here is a single slice of resolution 96x96, recorded at 11 different time intervals. These time intervals are the delays from initial excitation at which the signals are measured. The 'tau' values for this fMRI scan ranged from -16ms to 64ms at a step of 8ms, such that the first three values are -16ms, -8ms and 0ms. Rendering the images in chronological order below visualizes the measurements of signals recorded during the ASE pulse sequence. You can see the signal strength decay over time."
      ]
    },
    {
      "cell_type": "code",
      "metadata": {
        "id": "o760iqSW1MEy"
      },
      "source": [
        "data = img.get_fdata().reshape((96, 96, 11))\n",
        "taus = range(-16,65,8)\n",
        "\n",
        "fig, axes = plt.subplots(3, 4, figsize=(18, 14))\n",
        "axes = axes.ravel()\n",
        "[a.set_axis_off() for a in axes.ravel()]\n",
        "\n",
        "for t in range(data.shape[2]):\n",
        "  im = axes[t].imshow(data[:,:,t], vmax=255)\n",
        "  plt.colorbar(im, ax=axes[t])\n",
        "  axes[t].set_title('Signal measurements\\noffset {}ms from excitation'.format(taus[t]))"
      ],
      "execution_count": null,
      "outputs": []
    },
    {
      "cell_type": "markdown",
      "metadata": {
        "id": "n9pC3eQUA7d1"
      },
      "source": [
        "If we a single pixel of the image from an area with varying signal strength over time we can visualize the decay. The general idea is to create a system that, when given data like this, can predict the aforementioned parameters, accurately."
      ]
    },
    {
      "cell_type": "code",
      "metadata": {
        "colab": {
          "base_uri": "https://localhost:8080/",
          "height": 283
        },
        "id": "Tz9Iy3LeBIaD",
        "outputId": "acc115b8-b00c-4615-d75c-ace7d1df1f44"
      },
      "source": [
        "excerpt = np.log(data[50,50,:])\n",
        "plt.scatter(taus, excerpt)"
      ],
      "execution_count": null,
      "outputs": [
        {
          "output_type": "execute_result",
          "data": {
            "text/plain": [
              "<matplotlib.collections.PathCollection at 0x7f014d531c50>"
            ]
          },
          "metadata": {
            "tags": []
          },
          "execution_count": 326
        },
        {
          "output_type": "display_data",
          "data": {
            "image/png": "[encoded data removed]",
            "text/plain": [
              "<Figure size 432x288 with 1 Axes>"
            ]
          },
          "metadata": {
            "tags": [],
            "needs_background": "light"
          }
        }
      ]
    },
    {
      "cell_type": "markdown",
      "metadata": {
        "id": "SNlSIOdJDJkX"
      },
      "source": [
        "# Linear Evaluation of Parameters Using Linear Regression\n",
        "Taking a look at the visualisation of data above and compare it the brilliant figure below from the 2017 paper by A.J. Stone and N.P. Blockley. We can see captured signals can be characterized by the qBOLD signal. If we use linear regression on the data, knowing that the signal decay is equivalent to $R'_2$, we can take the gradient of the solution to be $R'_2$. DBV can then be calculated using the intercept of the solution, that just leaves OEF. OEF can be calculated from the deoxyhaemoglobin concentration (dHb) and the haemoglobin concentration (Hb). dHb can be calculated from $R'_2$ and DBV assuming knowledge of other constants, Hb can be inferred given the expected proportion of hematocrit and finally then OEF can be calculated using these values. In practice OEF is simplified into a single equation.\n",
        "\n",
        "![](https://drive.google.com/uc?export=view&id=1mqvTHTVoS-B-jkNDJRyzv3t_lTwj-zw0)"
      ]
    },
    {
      "cell_type": "code",
      "metadata": {
        "id": "lw7qA9GMHQ-Z"
      },
      "source": [
        "# @title Manual Linear Regression (Double-Click to Open)\n",
        "class QBOLD_LR():\n",
        "  def __init__(self, hct, dMagSus, pGyro, fStr, oCap, cTime, tConf):\n",
        "    self.hct = hct\n",
        "    self.dMagSus = dMagSus\n",
        "    self.pGyro = pGyro\n",
        "    self.fStr = fStr\n",
        "    self.oCap = oCap\n",
        "    self.cTime = cTime\n",
        "    [tStart, tEnd, tStep] = tConf\n",
        "    self.taus = np.array(range(tStart, tEnd+1, tStep))*10**-3\n",
        "\n",
        "  def _fit_single(self, xdata):\n",
        "    x = np.vstack([self.taus, np.ones_like(taus)])\n",
        "    idx = np.where(self.taus > self.cTime)[0]\n",
        "    x = np.take(x, idx, axis=1)\n",
        "    xdata = np.take(xdata, idx)\n",
        "    return np.dot(np.linalg.pinv(x).T, xdata.reshape(xdata.shape[0],1)).flatten()\n",
        "\n",
        "  def _fit_single_sk(self, xdata):\n",
        "    idx = np.where(self.taus > self.cTime)[0]\n",
        "    x = np.take(self.taus, idx)\n",
        "    w = np.sqrt(np.diag((1. / x).T))\n",
        "    x = np.vstack([x, np.ones(len(x))]).T\n",
        "    xw = np.dot(w, x) \n",
        "    y = np.take(xdata, idx)\n",
        "    yw = np.dot(y.T, w)\n",
        "\n",
        "    m, c = np.linalg.lstsq(xw, yw.T, rcond=None)[0]\n",
        "    return [m, c]\n",
        "\n",
        "  def fit(self, xdata, method='manual'):\n",
        "    self.data = xdata\n",
        "    dim = self.data.shape\n",
        "    self.lr = np.zeros((*dim[:2],2))\n",
        "\n",
        "    for x in range(dim[0]):\n",
        "      for y in range(dim[1]):\n",
        "        if method == 'manual':\n",
        "          self.lr[x,y,:] = self._fit_single(self.data[x,y])\n",
        "        elif method == 'sk':\n",
        "          self.lr[x,y,:] = self._fit_single_sk(self.data[x,y])\n",
        "\n",
        "  def visualise_qbold(self, x, y):\n",
        "    excerpt = self.data[x, y, :]\n",
        "    lr = self.lr[x, y, :]\n",
        "\n",
        "    line_x = np.linspace(self.taus[0], self.taus[-1], 100).reshape((-1,1)) \n",
        "\n",
        "    fig, ax = plt.subplots()\n",
        "\n",
        "    ax.axvline(self.cTime, color='black', linestyle='--', label='Tc')\n",
        "    ax.plot(line_x, lr[0]*line_x + lr[1], color='r', label='R2P')\n",
        "    ax.scatter(self.taus, excerpt, label='Original Data')\n",
        "    ax.set_xlabel('Displacement from SE, tau /ms')\n",
        "    ax.set_ylabel('ln(signal)')\n",
        "    legend = ax.legend(loc='upper right', shadow=True, fontsize='x-large')\n",
        "    plt.show()\n",
        "\n",
        "  def _calculate_parameters(self, x, y):\n",
        "    excerpt = self.data[x, y, :]\n",
        "    lr = self.lr[x, y, :]\n",
        "\n",
        "    r2p = -self.lr[x, y, 0]\n",
        "    dbv = self.lr[x, y, 1] - self.data[x, y, np.where(self.taus == 0)].flatten()[0]\n",
        "    return [r2p, dbv]"
      ],
      "execution_count": null,
      "outputs": []
    },
    {
      "cell_type": "code",
      "metadata": {
        "colab": {
          "base_uri": "https://localhost:8080/"
        },
        "id": "VlvlCQeRI6HS",
        "outputId": "961da1a9-1923-4a33-d9e7-367a6be9038c"
      },
      "source": [
        "model = QBOLD_LR(hct, dMagSus, pGyro, fStr, oCap, 0.017, [-16,64,8])\n",
        "model.fit(np.log(data))\n",
        "\n",
        "res = np.zeros((*data.shape[:2], 2))\n",
        "for x in range(res.shape[0]):\n",
        "  for y in range(res.shape[1]):\n",
        "    res[x][y] = model._calculate_parameters(x, y)\n",
        "\n",
        "df = pd.DataFrame(res.reshape(-1, 2), columns=['R2P', 'DBV'])\n",
        "df['DBV'] = df['DBV'] * 100\n",
        "df.dropna(inplace=True)\n",
        "df.clip(0, inplace=True)\n",
        "print('Mean R2P of {:.2f}Hz, Mean DBV of {:.2f}%'.format(*df.mean()))"
      ],
      "execution_count": null,
      "outputs": [
        {
          "output_type": "stream",
          "text": [
            "/usr/local/lib/python3.6/dist-packages/ipykernel_launcher.py:2: RuntimeWarning: divide by zero encountered in log\n",
            "  \n"
          ],
          "name": "stderr"
        },
        {
          "output_type": "stream",
          "text": [
            "Mean R2P of 5.20Hz, Mean DBV of 8.25%\n"
          ],
          "name": "stdout"
        }
      ]
    },
    {
      "cell_type": "code",
      "metadata": {
        "colab": {
          "base_uri": "https://localhost:8080/"
        },
        "id": "oC-tdSkkZlD3",
        "outputId": "111c4593-c4f4-4079-c4d0-5480d6c4f0f4"
      },
      "source": [
        "model = QBOLD_LR(hct, dMagSus, pGyro, fStr, oCap, 0.017, [-16,64,8])\n",
        "model.fit(np.log(data), method='sk')\n",
        "\n",
        "res = np.zeros((*data.shape[:2], 2))\n",
        "for x in range(res.shape[0]):\n",
        "  for y in range(res.shape[1]):\n",
        "    res[x][y] = model._calculate_parameters(x, y)\n",
        "\n",
        "df = pd.DataFrame(res.reshape(-1, 2), columns=['R2P', 'DBV'])\n",
        "df['DBV'] = df['DBV'] * 100\n",
        "df.dropna(inplace=True)\n",
        "df.clip(0, inplace=True)\n",
        "print('Mean R2P of {:.2f}Hz, Mean DBV of {:.2f}%'.format(*df.mean()))"
      ],
      "execution_count": null,
      "outputs": [
        {
          "output_type": "stream",
          "text": [
            "/usr/local/lib/python3.6/dist-packages/ipykernel_launcher.py:2: RuntimeWarning: divide by zero encountered in log\n",
            "  \n"
          ],
          "name": "stderr"
        },
        {
          "output_type": "stream",
          "text": [
            "Mean R2P of 5.10Hz, Mean DBV of 7.73%\n"
          ],
          "name": "stdout"
        }
      ]
    },
    {
      "cell_type": "markdown",
      "metadata": {
        "id": "1BmErv6HdIqN"
      },
      "source": [
        "# Non-Linear Evaluation of Parameters Using Neural Networks\n",
        "As you've probably noticed, the methods used above extrapolate the parameters from a linear regime. The aim in using neural networks is to train a model that is capable of accurately predicting parameters making use of all the data by using non-linear activation functions. The first problem encountered here is the lack of training data. Not only is the data provided limited but it is also untagged, hence supervised learning would be ruled out. To overcome this problem, I will simulate signals by rearranging the equation for the quadratic exponential profile of $R_2'$ decay. The equation is defined differently in the two regimes separated by the characteristic time, these are equations 7 a & b in the aforementioned 2017 Stone & Blockley paper.\n"
      ]
    },
    {
      "cell_type": "code",
      "metadata": {
        "id": "7xofnyOpz5kX"
      },
      "source": [
        "#@title Class for predicting R2P and deriving OEF and DBV (double-click)\n",
        "class QBOLD_NN():\n",
        "  def __init__(self, hct, dMagSus, pGyro, fStr, tConf, oefR, dbvR):\n",
        "    self.hct = hct\n",
        "    self.dMagSus = dMagSus\n",
        "    self.pGyro = pGyro\n",
        "    self.fStr = fStr\n",
        "    [tStart, tEnd, tStep] = tConf\n",
        "    self.taus = np.array(range(tStart, tEnd+1, tStep))*10**-3\n",
        "    self.oefR = oefR\n",
        "    self.dbvR = dbvR\n",
        "\n",
        "  def generate(self, n):\n",
        "    n = np.sqrt(n)\n",
        "    c = 3/(4 * np.pi*self.pGyro*self.fStr*self.dMagSus)\n",
        "\n",
        "    if not n.is_integer():\n",
        "      print('Please give a perfect square number')\n",
        "      return\n",
        "\n",
        "    n = int(n)\n",
        "\n",
        "    tc = 0.016\n",
        "\n",
        "    oef = np.linspace(0.20, 0.70, n)\n",
        "    dbv = np.linspace(0.003, 0.15, n)\n",
        "    data = np.zeros((n**2, 15))\n",
        "\n",
        "    i = 0\n",
        "    for x in oef:\n",
        "      for y in dbv:\n",
        "        r2p = (x * self.hct * y)/c\n",
        "        s0 = 1/np.exp(-11.5*0.074)*np.exp(-0.3*(r2p*-0.016)**2/y)\n",
        "        st = []\n",
        "        for t in self.taus:\n",
        "          if t < tc:\n",
        "            st.append(s0*np.exp(-11.5*0.074)*np.exp(-0.3*(r2p*t)**2/y))\n",
        "          else:\n",
        "            st.append(s0*np.exp(-11.5*0.074)*np.exp(y-r2p*t))\n",
        "        data[i] = [x, y, r2p, s0]+st\n",
        "        i += 1\n",
        "\n",
        "    self.data = pd.DataFrame(data, columns=np.hstack((['OEF', 'DBV', 'R2P', 'S0'],self.taus)))\n",
        "\n",
        "  def _split_data(self, split, ynames):\n",
        "    data = self.data.sample(frac=1)\n",
        "\n",
        "    x = data.to_numpy()[:,4:]\n",
        "    y = data[ynames].to_numpy()\n",
        "    idx = int(split*data.shape[0])\n",
        "\n",
        "    self.trainx = x[:idx,:]\n",
        "    self.trainy = y[:idx,:]\n",
        "    self.testx = x[idx:,:]\n",
        "    self.testy = y[idx:,:]\n",
        "\n",
        "  def create_model(self, ynames=['R2P'], split=0.8, activation='relu', o='adam', lr=0.01, lf='mse', snr=100, n=10):\n",
        "    self.model_config = {}\n",
        "    self.model_config['ynames'] = ynames\n",
        "    self.model_config['split'] = split\n",
        "    self.model_config['activation'] = activation\n",
        "    self.model_config['optimizer'] = o\n",
        "    self.model_config['lr'] = lr\n",
        "    self.model_config['lf'] = lf\n",
        "    self.model_config['snr'] = snr\n",
        "    self.model_config['n'] = n\n",
        "\n",
        "    self._split_data(split, ynames)\n",
        " \n",
        "    self.model = tf.keras.models.Sequential([\n",
        "      tf.keras.layers.GaussianNoise(1/(np.sqrt(11)*snr)),\n",
        "      tf.keras.layers.Dense(n, activation=activation),\n",
        "      tf.keras.layers.Dense(len(ynames))\n",
        "    ])\n",
        "\n",
        "    if o == 'adam':\n",
        "      optimizer = tf.keras.optimizers.Adam(learning_rate=lr)\n",
        "    elif o == 'sgd':\n",
        "      optimizer = tf.keras.optimizers.SGD(learning_rate=lr)\n",
        "    else:\n",
        "      print('Optimizer not recognised.')\n",
        "      return\n",
        "\n",
        "    if lf == 'mse':\n",
        "      loss = tf.keras.losses.MeanSquaredError()\n",
        "    elif lf == 'mae':\n",
        "      loss = tf.keras.losses.MeanAbsoluteError()\n",
        "    else:\n",
        "      print('Loss function not recognised.')\n",
        "      return\n",
        "\n",
        "    self.model.compile(optimizer=optimizer,\n",
        "              loss=loss)\n",
        "    \n",
        "  def train_model(self, log_transform=False, epochs=100, patience=20, batch_size=1, verbose=0):\n",
        "    self.model_config['log_transform'] = log_transform\n",
        "    self.model_config['epochs'] = epochs\n",
        "    self.model_config['patience'] = patience\n",
        "    self.model_config['batch_size'] = batch_size\n",
        "\n",
        "    es = tf.keras.callbacks.EarlyStopping(monitor='val_loss', mode='min', verbose=verbose, patience=patience)\n",
        "    mc = tf.keras.callbacks.ModelCheckpoint('best_model.h5', monitor='val_loss', mode='min', verbose=verbose, save_best_only=True)\n",
        "\n",
        "    trainx = self.trainx\n",
        "    trainy = self.trainy\n",
        "    testx = self.testx\n",
        "    testy = self.testy\n",
        "\n",
        "    if log_transform:\n",
        "      trainx = np.log(trainx)\n",
        "      testx = np.log(testx)\n",
        "\n",
        "    history = self.model.fit(trainx, trainy, epochs=epochs, validation_data=(testx, testy), batch_size=batch_size, callbacks=[es, mc], verbose=verbose)\n",
        "\n",
        "    self.model = tf.keras.models.load_model('best_model.h5')\n",
        "\n",
        "    if verbose == 1:\n",
        "      plt.plot(history.history['loss'], label='loss')\n",
        "      plt.plot(history.history['val_loss'], label='val_loss')\n",
        "      plt.xlabel('Epoch')\n",
        "      plt.ylabel('Error [Hz]')\n",
        "      plt.legend()\n",
        "      plt.grid(True)\n",
        "      plt.show()\n",
        "\n",
        "    return history\n",
        "\n",
        "  def predict_model(self, data):\n",
        "    if self.model_config['log_transform']:\n",
        "      data = np.log(data)\n",
        "\n",
        "    predictions = self.model.predict(data)\n",
        "\n",
        "    ynames = self.model_config['ynames']\n",
        "    out = np.zeros((data.shape[0],3))\n",
        "\n",
        "    try:\n",
        "      out[:,0] = predictions[:,ynames.index('R2P')]\n",
        "    except ValueError:\n",
        "      print('R2P prediction is required')\n",
        "\n",
        "    try:\n",
        "      out[:,1] = predictions[:,ynames.index('DBV')]\n",
        "    except ValueError:\n",
        "      out[:,1] = 1 - data[:,np.where(self.taus==0)[0][0]]\n",
        "\n",
        "    try:\n",
        "      out[:,2] = predictions[:,ynames.index('OEF')]\n",
        "    except ValueError:\n",
        "      c = 3/(4 * np.pi*self.pGyro*self.fStr*self.dMagSus)\n",
        "      out[:,2] = (c*out[:,0])/(self.hct*out[:,1])\n",
        "      \n",
        "    return pd.DataFrame(out, columns=['R2P(P)', 'DBV(P)', 'OEF(P)'])"
      ],
      "execution_count": 120,
      "outputs": []
    },
    {
      "cell_type": "code",
      "metadata": {
        "colab": {
          "base_uri": "https://localhost:8080/",
          "height": 1000
        },
        "id": "DRl-x4MV0Ti3",
        "outputId": "6aa2a647-ed83-4cdc-e89c-09c16a440f08"
      },
      "source": [
        "qboldnn = QBOLD_NN(hct, dMagSus, pGyro, fStr, [-16,64,8], [0.20, 0.70], [0.003, 0.15])\n",
        "qboldnn.generate(10000)\n",
        "qboldnn.create_model(ynames=['R2P', 'DBV'], split=0.8, activation='relu', o='adam', lr=1e-3, lf='mse', snr=100, n=20)\n",
        "qboldnn.train_model(log_transform=True, epochs=1000, patience=20, batch_size=4, verbose=1)"
      ],
      "execution_count": 158,
      "outputs": [
        {
          "output_type": "stream",
          "text": [
            "Epoch 1/1000\n",
            "2000/2000 [==============================] - 3s 1ms/step - loss: 25.6700 - val_loss: 0.6089\n",
            "\n",
            "Epoch 00001: val_loss improved from inf to 0.60895, saving model to best_model.h5\n",
            "Epoch 2/1000\n",
            "2000/2000 [==============================] - 3s 1ms/step - loss: 0.5415 - val_loss: 0.4235\n",
            "\n",
            "Epoch 00002: val_loss improved from 0.60895 to 0.42354, saving model to best_model.h5\n",
            "Epoch 3/1000\n",
            "2000/2000 [==============================] - 3s 1ms/step - loss: 0.2823 - val_loss: 0.0368\n",
            "\n",
            "Epoch 00003: val_loss improved from 0.42354 to 0.03675, saving model to best_model.h5\n",
            "Epoch 4/1000\n",
            "2000/2000 [==============================] - 3s 1ms/step - loss: 0.0238 - val_loss: 0.0148\n",
            "\n",
            "Epoch 00004: val_loss improved from 0.03675 to 0.01480, saving model to best_model.h5\n",
            "Epoch 5/1000\n",
            "2000/2000 [==============================] - 3s 1ms/step - loss: 0.0133 - val_loss: 0.0118\n",
            "\n",
            "Epoch 00005: val_loss improved from 0.01480 to 0.01182, saving model to best_model.h5\n",
            "Epoch 6/1000\n",
            "2000/2000 [==============================] - 3s 1ms/step - loss: 0.0122 - val_loss: 0.0097\n",
            "\n",
            "Epoch 00006: val_loss improved from 0.01182 to 0.00969, saving model to best_model.h5\n",
            "Epoch 7/1000\n",
            "2000/2000 [==============================] - 3s 1ms/step - loss: 0.0112 - val_loss: 0.0088\n",
            "\n",
            "Epoch 00007: val_loss improved from 0.00969 to 0.00879, saving model to best_model.h5\n",
            "Epoch 8/1000\n",
            "2000/2000 [==============================] - 3s 1ms/step - loss: 0.0106 - val_loss: 0.0076\n",
            "\n",
            "Epoch 00008: val_loss improved from 0.00879 to 0.00758, saving model to best_model.h5\n",
            "Epoch 9/1000\n",
            "2000/2000 [==============================] - 3s 1ms/step - loss: 0.0093 - val_loss: 0.0071\n",
            "\n",
            "Epoch 00009: val_loss improved from 0.00758 to 0.00707, saving model to best_model.h5\n",
            "Epoch 10/1000\n",
            "2000/2000 [==============================] - 3s 1ms/step - loss: 0.0085 - val_loss: 0.0090\n",
            "\n",
            "Epoch 00010: val_loss did not improve from 0.00707\n",
            "Epoch 11/1000\n",
            "2000/2000 [==============================] - 3s 1ms/step - loss: 0.0083 - val_loss: 0.0064\n",
            "\n",
            "Epoch 00011: val_loss improved from 0.00707 to 0.00636, saving model to best_model.h5\n",
            "Epoch 12/1000\n",
            "2000/2000 [==============================] - 3s 1ms/step - loss: 0.0076 - val_loss: 0.0078\n",
            "\n",
            "Epoch 00012: val_loss did not improve from 0.00636\n",
            "Epoch 13/1000\n",
            "2000/2000 [==============================] - 3s 1ms/step - loss: 0.0068 - val_loss: 0.0050\n",
            "\n",
            "Epoch 00013: val_loss improved from 0.00636 to 0.00499, saving model to best_model.h5\n",
            "Epoch 14/1000\n",
            "2000/2000 [==============================] - 3s 1ms/step - loss: 0.0062 - val_loss: 0.0035\n",
            "\n",
            "Epoch 00014: val_loss improved from 0.00499 to 0.00346, saving model to best_model.h5\n",
            "Epoch 15/1000\n",
            "2000/2000 [==============================] - 3s 1ms/step - loss: 0.0055 - val_loss: 0.0035\n",
            "\n",
            "Epoch 00015: val_loss did not improve from 0.00346\n",
            "Epoch 16/1000\n",
            "2000/2000 [==============================] - 3s 1ms/step - loss: 0.0055 - val_loss: 0.0031\n",
            "\n",
            "Epoch 00016: val_loss improved from 0.00346 to 0.00307, saving model to best_model.h5\n",
            "Epoch 17/1000\n",
            "2000/2000 [==============================] - 3s 1ms/step - loss: 0.0050 - val_loss: 0.0030\n",
            "\n",
            "Epoch 00017: val_loss improved from 0.00307 to 0.00298, saving model to best_model.h5\n",
            "Epoch 18/1000\n",
            "2000/2000 [==============================] - 3s 1ms/step - loss: 0.0044 - val_loss: 0.0019\n",
            "\n",
            "Epoch 00018: val_loss improved from 0.00298 to 0.00191, saving model to best_model.h5\n",
            "Epoch 19/1000\n",
            "2000/2000 [==============================] - 3s 1ms/step - loss: 0.0043 - val_loss: 0.0019\n",
            "\n",
            "Epoch 00019: val_loss improved from 0.00191 to 0.00188, saving model to best_model.h5\n",
            "Epoch 20/1000\n",
            "2000/2000 [==============================] - 3s 2ms/step - loss: 0.0041 - val_loss: 0.0019\n",
            "\n",
            "Epoch 00020: val_loss improved from 0.00188 to 0.00187, saving model to best_model.h5\n",
            "Epoch 21/1000\n",
            "2000/2000 [==============================] - 3s 1ms/step - loss: 0.0042 - val_loss: 0.0032\n",
            "\n",
            "Epoch 00021: val_loss did not improve from 0.00187\n",
            "Epoch 22/1000\n",
            "2000/2000 [==============================] - 3s 1ms/step - loss: 0.0040 - val_loss: 0.0011\n",
            "\n",
            "Epoch 00022: val_loss improved from 0.00187 to 0.00110, saving model to best_model.h5\n",
            "Epoch 23/1000\n",
            "2000/2000 [==============================] - 3s 1ms/step - loss: 0.0037 - val_loss: 9.2142e-04\n",
            "\n",
            "Epoch 00023: val_loss improved from 0.00110 to 0.00092, saving model to best_model.h5\n",
            "Epoch 24/1000\n",
            "2000/2000 [==============================] - 3s 1ms/step - loss: 0.0036 - val_loss: 0.0011\n",
            "\n",
            "Epoch 00024: val_loss did not improve from 0.00092\n",
            "Epoch 25/1000\n",
            "2000/2000 [==============================] - 3s 1ms/step - loss: 0.0036 - val_loss: 7.1046e-04\n",
            "\n",
            "Epoch 00025: val_loss improved from 0.00092 to 0.00071, saving model to best_model.h5\n",
            "Epoch 26/1000\n",
            "2000/2000 [==============================] - 3s 1ms/step - loss: 0.0034 - val_loss: 5.4046e-04\n",
            "\n",
            "Epoch 00026: val_loss improved from 0.00071 to 0.00054, saving model to best_model.h5\n",
            "Epoch 27/1000\n",
            "2000/2000 [==============================] - 3s 1ms/step - loss: 0.0036 - val_loss: 8.7491e-04\n",
            "\n",
            "Epoch 00027: val_loss did not improve from 0.00054\n",
            "Epoch 28/1000\n",
            "2000/2000 [==============================] - 3s 1ms/step - loss: 0.0035 - val_loss: 6.0414e-04\n",
            "\n",
            "Epoch 00028: val_loss did not improve from 0.00054\n",
            "Epoch 29/1000\n",
            "2000/2000 [==============================] - 3s 1ms/step - loss: 0.0034 - val_loss: 7.0607e-04\n",
            "\n",
            "Epoch 00029: val_loss did not improve from 0.00054\n",
            "Epoch 30/1000\n",
            "2000/2000 [==============================] - 3s 1ms/step - loss: 0.0035 - val_loss: 0.0018\n",
            "\n",
            "Epoch 00030: val_loss did not improve from 0.00054\n",
            "Epoch 31/1000\n",
            "2000/2000 [==============================] - 3s 1ms/step - loss: 0.0033 - val_loss: 8.3317e-04\n",
            "\n",
            "Epoch 00031: val_loss did not improve from 0.00054\n",
            "Epoch 32/1000\n",
            "2000/2000 [==============================] - 3s 1ms/step - loss: 0.0034 - val_loss: 8.3896e-04\n",
            "\n",
            "Epoch 00032: val_loss did not improve from 0.00054\n",
            "Epoch 33/1000\n",
            "2000/2000 [==============================] - 3s 1ms/step - loss: 0.0035 - val_loss: 4.6543e-04\n",
            "\n",
            "Epoch 00033: val_loss improved from 0.00054 to 0.00047, saving model to best_model.h5\n",
            "Epoch 34/1000\n",
            "2000/2000 [==============================] - 3s 1ms/step - loss: 0.0032 - val_loss: 4.8252e-04\n",
            "\n",
            "Epoch 00034: val_loss did not improve from 0.00047\n",
            "Epoch 35/1000\n",
            "2000/2000 [==============================] - 3s 1ms/step - loss: 0.0034 - val_loss: 6.8193e-04\n",
            "\n",
            "Epoch 00035: val_loss did not improve from 0.00047\n",
            "Epoch 36/1000\n",
            "2000/2000 [==============================] - 3s 1ms/step - loss: 0.0034 - val_loss: 2.6563e-04\n",
            "\n",
            "Epoch 00036: val_loss improved from 0.00047 to 0.00027, saving model to best_model.h5\n",
            "Epoch 37/1000\n",
            "2000/2000 [==============================] - 3s 1ms/step - loss: 0.0035 - val_loss: 2.8652e-04\n",
            "\n",
            "Epoch 00037: val_loss did not improve from 0.00027\n",
            "Epoch 38/1000\n",
            "2000/2000 [==============================] - 3s 1ms/step - loss: 0.0033 - val_loss: 6.1997e-04\n",
            "\n",
            "Epoch 00038: val_loss did not improve from 0.00027\n",
            "Epoch 39/1000\n",
            "2000/2000 [==============================] - 3s 1ms/step - loss: 0.0033 - val_loss: 5.8411e-04\n",
            "\n",
            "Epoch 00039: val_loss did not improve from 0.00027\n",
            "Epoch 40/1000\n",
            "2000/2000 [==============================] - 3s 1ms/step - loss: 0.0034 - val_loss: 1.9518e-04\n",
            "\n",
            "Epoch 00040: val_loss improved from 0.00027 to 0.00020, saving model to best_model.h5\n",
            "Epoch 41/1000\n",
            "2000/2000 [==============================] - 3s 1ms/step - loss: 0.0034 - val_loss: 7.4699e-04\n",
            "\n",
            "Epoch 00041: val_loss did not improve from 0.00020\n",
            "Epoch 42/1000\n",
            "2000/2000 [==============================] - 3s 1ms/step - loss: 0.0032 - val_loss: 3.6299e-04\n",
            "\n",
            "Epoch 00042: val_loss did not improve from 0.00020\n",
            "Epoch 43/1000\n",
            "2000/2000 [==============================] - 3s 1ms/step - loss: 0.0033 - val_loss: 2.1393e-04\n",
            "\n",
            "Epoch 00043: val_loss did not improve from 0.00020\n",
            "Epoch 44/1000\n",
            "2000/2000 [==============================] - 3s 1ms/step - loss: 0.0034 - val_loss: 4.3845e-04\n",
            "\n",
            "Epoch 00044: val_loss did not improve from 0.00020\n",
            "Epoch 45/1000\n",
            "2000/2000 [==============================] - 3s 1ms/step - loss: 0.0035 - val_loss: 4.1247e-04\n",
            "\n",
            "Epoch 00045: val_loss did not improve from 0.00020\n",
            "Epoch 46/1000\n",
            "2000/2000 [==============================] - 3s 1ms/step - loss: 0.0034 - val_loss: 3.3047e-04\n",
            "\n",
            "Epoch 00046: val_loss did not improve from 0.00020\n",
            "Epoch 47/1000\n",
            "2000/2000 [==============================] - 3s 1ms/step - loss: 0.0031 - val_loss: 0.0012\n",
            "\n",
            "Epoch 00047: val_loss did not improve from 0.00020\n",
            "Epoch 48/1000\n",
            "2000/2000 [==============================] - 3s 1ms/step - loss: 0.0038 - val_loss: 8.5446e-04\n",
            "\n",
            "Epoch 00048: val_loss did not improve from 0.00020\n",
            "Epoch 49/1000\n",
            "2000/2000 [==============================] - 3s 1ms/step - loss: 0.0033 - val_loss: 0.0036\n",
            "\n",
            "Epoch 00049: val_loss did not improve from 0.00020\n",
            "Epoch 50/1000\n",
            "2000/2000 [==============================] - 3s 1ms/step - loss: 0.0033 - val_loss: 2.2596e-04\n",
            "\n",
            "Epoch 00050: val_loss did not improve from 0.00020\n",
            "Epoch 51/1000\n",
            "2000/2000 [==============================] - 3s 1ms/step - loss: 0.0031 - val_loss: 0.0049\n",
            "\n",
            "Epoch 00051: val_loss did not improve from 0.00020\n",
            "Epoch 52/1000\n",
            "2000/2000 [==============================] - 3s 1ms/step - loss: 0.0033 - val_loss: 0.0016\n",
            "\n",
            "Epoch 00052: val_loss did not improve from 0.00020\n",
            "Epoch 53/1000\n",
            "2000/2000 [==============================] - 3s 1ms/step - loss: 0.0033 - val_loss: 5.7864e-04\n",
            "\n",
            "Epoch 00053: val_loss did not improve from 0.00020\n",
            "Epoch 54/1000\n",
            "2000/2000 [==============================] - 3s 1ms/step - loss: 0.0033 - val_loss: 0.0040\n",
            "\n",
            "Epoch 00054: val_loss did not improve from 0.00020\n",
            "Epoch 55/1000\n",
            "2000/2000 [==============================] - 3s 1ms/step - loss: 0.0032 - val_loss: 4.7195e-04\n",
            "\n",
            "Epoch 00055: val_loss did not improve from 0.00020\n",
            "Epoch 56/1000\n",
            "2000/2000 [==============================] - 3s 1ms/step - loss: 0.0033 - val_loss: 4.9232e-04\n",
            "\n",
            "Epoch 00056: val_loss did not improve from 0.00020\n",
            "Epoch 57/1000\n",
            "2000/2000 [==============================] - 3s 1ms/step - loss: 0.0033 - val_loss: 3.2444e-04\n",
            "\n",
            "Epoch 00057: val_loss did not improve from 0.00020\n",
            "Epoch 58/1000\n",
            "2000/2000 [==============================] - 3s 1ms/step - loss: 0.0034 - val_loss: 9.4804e-04\n",
            "\n",
            "Epoch 00058: val_loss did not improve from 0.00020\n",
            "Epoch 59/1000\n",
            "2000/2000 [==============================] - 3s 1ms/step - loss: 0.0033 - val_loss: 3.4187e-04\n",
            "\n",
            "Epoch 00059: val_loss did not improve from 0.00020\n",
            "Epoch 60/1000\n",
            "2000/2000 [==============================] - 3s 1ms/step - loss: 0.0032 - val_loss: 3.7872e-04\n",
            "\n",
            "Epoch 00060: val_loss did not improve from 0.00020\n",
            "Epoch 00060: early stopping\n"
          ],
          "name": "stdout"
        },
        {
          "output_type": "display_data",
          "data": {
            "image/png": "[encoded data removed]",
            "text/plain": [
              "<Figure size 432x288 with 1 Axes>"
            ]
          },
          "metadata": {
            "tags": [],
            "needs_background": "light"
          }
        },
        {
          "output_type": "execute_result",
          "data": {
            "text/plain": [
              "<tensorflow.python.keras.callbacks.History at 0x7f599fc6c908>"
            ]
          },
          "metadata": {
            "tags": []
          },
          "execution_count": 158
        }
      ]
    },
    {
      "cell_type": "code",
      "metadata": {
        "colab": {
          "base_uri": "https://localhost:8080/",
          "height": 250
        },
        "id": "ZefIcwMg6xtx",
        "outputId": "2add733d-71ef-4ed2-a36c-c488b1d2e2bb"
      },
      "source": [
        "excerpt = qboldnn.data.sample(frac=1).iloc[:10]\n",
        "x = excerpt.to_numpy()[:,4:]\n",
        "excerpt.reset_index(inplace=True)\n",
        "predictions = qboldnn.predict_model(x)\n",
        "excerpt = pd.concat([excerpt, predictions], axis=1)\n",
        "excerpt[['OEF', 'DBV', 'R2P', 'OEF(P)', 'DBV(P)', 'R2P(P)']].style.format({\n",
        "    'OEF': '{:.0%}'.format,\n",
        "    'DBV': '{:.0%}'.format,\n",
        "    'OEF(P)': '{:.0%}'.format,\n",
        "    'DBV(P)': '{:.0%}'.format,\n",
        "})"
      ],
      "execution_count": 159,
      "outputs": [
        {
          "output_type": "execute_result",
          "data": {
            "text/html": [
              "<style  type=\"text/css\" >\n",
              "</style><table id=\"T_81807dc0_7120_11eb_ac2b_0242ac1c0002\" ><thead>    <tr>        <th class=\"blank level0\" ></th>        <th class=\"col_heading level0 col0\" >OEF</th>        <th class=\"col_heading level0 col1\" >DBV</th>        <th class=\"col_heading level0 col2\" >R2P</th>        <th class=\"col_heading level0 col3\" >OEF(P)</th>        <th class=\"col_heading level0 col4\" >DBV(P)</th>        <th class=\"col_heading level0 col5\" >R2P(P)</th>    </tr></thead><tbody>\n",
              "                <tr>\n",
              "                        <th id=\"T_81807dc0_7120_11eb_ac2b_0242ac1c0002level0_row0\" class=\"row_heading level0 row0\" >0</th>\n",
              "                        <td id=\"T_81807dc0_7120_11eb_ac2b_0242ac1c0002row0_col0\" class=\"data row0 col0\" >29%</td>\n",
              "                        <td id=\"T_81807dc0_7120_11eb_ac2b_0242ac1c0002row0_col1\" class=\"data row0 col1\" >14%</td>\n",
              "                        <td id=\"T_81807dc0_7120_11eb_ac2b_0242ac1c0002row0_col2\" class=\"data row0 col2\" >12.514672</td>\n",
              "                        <td id=\"T_81807dc0_7120_11eb_ac2b_0242ac1c0002row0_col3\" class=\"data row0 col3\" >30%</td>\n",
              "                        <td id=\"T_81807dc0_7120_11eb_ac2b_0242ac1c0002row0_col4\" class=\"data row0 col4\" >14%</td>\n",
              "                        <td id=\"T_81807dc0_7120_11eb_ac2b_0242ac1c0002row0_col5\" class=\"data row0 col5\" >12.501037</td>\n",
              "            </tr>\n",
              "            <tr>\n",
              "                        <th id=\"T_81807dc0_7120_11eb_ac2b_0242ac1c0002level0_row1\" class=\"row_heading level0 row1\" >1</th>\n",
              "                        <td id=\"T_81807dc0_7120_11eb_ac2b_0242ac1c0002row1_col0\" class=\"data row1 col0\" >22%</td>\n",
              "                        <td id=\"T_81807dc0_7120_11eb_ac2b_0242ac1c0002row1_col1\" class=\"data row1 col1\" >12%</td>\n",
              "                        <td id=\"T_81807dc0_7120_11eb_ac2b_0242ac1c0002row1_col2\" class=\"data row1 col2\" >7.713364</td>\n",
              "                        <td id=\"T_81807dc0_7120_11eb_ac2b_0242ac1c0002row1_col3\" class=\"data row1 col3\" >24%</td>\n",
              "                        <td id=\"T_81807dc0_7120_11eb_ac2b_0242ac1c0002row1_col4\" class=\"data row1 col4\" >10%</td>\n",
              "                        <td id=\"T_81807dc0_7120_11eb_ac2b_0242ac1c0002row1_col5\" class=\"data row1 col5\" >7.664855</td>\n",
              "            </tr>\n",
              "            <tr>\n",
              "                        <th id=\"T_81807dc0_7120_11eb_ac2b_0242ac1c0002level0_row2\" class=\"row_heading level0 row2\" >2</th>\n",
              "                        <td id=\"T_81807dc0_7120_11eb_ac2b_0242ac1c0002row2_col0\" class=\"data row2 col0\" >21%</td>\n",
              "                        <td id=\"T_81807dc0_7120_11eb_ac2b_0242ac1c0002row2_col1\" class=\"data row2 col1\" >14%</td>\n",
              "                        <td id=\"T_81807dc0_7120_11eb_ac2b_0242ac1c0002row2_col2\" class=\"data row2 col2\" >8.545505</td>\n",
              "                        <td id=\"T_81807dc0_7120_11eb_ac2b_0242ac1c0002row2_col3\" class=\"data row2 col3\" >24%</td>\n",
              "                        <td id=\"T_81807dc0_7120_11eb_ac2b_0242ac1c0002row2_col4\" class=\"data row2 col4\" >12%</td>\n",
              "                        <td id=\"T_81807dc0_7120_11eb_ac2b_0242ac1c0002row2_col5\" class=\"data row2 col5\" >8.480083</td>\n",
              "            </tr>\n",
              "            <tr>\n",
              "                        <th id=\"T_81807dc0_7120_11eb_ac2b_0242ac1c0002level0_row3\" class=\"row_heading level0 row3\" >3</th>\n",
              "                        <td id=\"T_81807dc0_7120_11eb_ac2b_0242ac1c0002row3_col0\" class=\"data row3 col0\" >37%</td>\n",
              "                        <td id=\"T_81807dc0_7120_11eb_ac2b_0242ac1c0002row3_col1\" class=\"data row3 col1\" >14%</td>\n",
              "                        <td id=\"T_81807dc0_7120_11eb_ac2b_0242ac1c0002row3_col2\" class=\"data row3 col2\" >15.609427</td>\n",
              "                        <td id=\"T_81807dc0_7120_11eb_ac2b_0242ac1c0002row3_col3\" class=\"data row3 col3\" >36%</td>\n",
              "                        <td id=\"T_81807dc0_7120_11eb_ac2b_0242ac1c0002row3_col4\" class=\"data row3 col4\" >14%</td>\n",
              "                        <td id=\"T_81807dc0_7120_11eb_ac2b_0242ac1c0002row3_col5\" class=\"data row3 col5\" >15.626276</td>\n",
              "            </tr>\n",
              "            <tr>\n",
              "                        <th id=\"T_81807dc0_7120_11eb_ac2b_0242ac1c0002level0_row4\" class=\"row_heading level0 row4\" >4</th>\n",
              "                        <td id=\"T_81807dc0_7120_11eb_ac2b_0242ac1c0002row4_col0\" class=\"data row4 col0\" >60%</td>\n",
              "                        <td id=\"T_81807dc0_7120_11eb_ac2b_0242ac1c0002row4_col1\" class=\"data row4 col1\" >7%</td>\n",
              "                        <td id=\"T_81807dc0_7120_11eb_ac2b_0242ac1c0002row4_col2\" class=\"data row4 col2\" >11.813326</td>\n",
              "                        <td id=\"T_81807dc0_7120_11eb_ac2b_0242ac1c0002row4_col3\" class=\"data row4 col3\" >60%</td>\n",
              "                        <td id=\"T_81807dc0_7120_11eb_ac2b_0242ac1c0002row4_col4\" class=\"data row4 col4\" >7%</td>\n",
              "                        <td id=\"T_81807dc0_7120_11eb_ac2b_0242ac1c0002row4_col5\" class=\"data row4 col5\" >11.823581</td>\n",
              "            </tr>\n",
              "            <tr>\n",
              "                        <th id=\"T_81807dc0_7120_11eb_ac2b_0242ac1c0002level0_row5\" class=\"row_heading level0 row5\" >5</th>\n",
              "                        <td id=\"T_81807dc0_7120_11eb_ac2b_0242ac1c0002row5_col0\" class=\"data row5 col0\" >55%</td>\n",
              "                        <td id=\"T_81807dc0_7120_11eb_ac2b_0242ac1c0002row5_col1\" class=\"data row5 col1\" >10%</td>\n",
              "                        <td id=\"T_81807dc0_7120_11eb_ac2b_0242ac1c0002row5_col2\" class=\"data row5 col2\" >16.469118</td>\n",
              "                        <td id=\"T_81807dc0_7120_11eb_ac2b_0242ac1c0002row5_col3\" class=\"data row5 col3\" >53%</td>\n",
              "                        <td id=\"T_81807dc0_7120_11eb_ac2b_0242ac1c0002row5_col4\" class=\"data row5 col4\" >10%</td>\n",
              "                        <td id=\"T_81807dc0_7120_11eb_ac2b_0242ac1c0002row5_col5\" class=\"data row5 col5\" >16.489170</td>\n",
              "            </tr>\n",
              "            <tr>\n",
              "                        <th id=\"T_81807dc0_7120_11eb_ac2b_0242ac1c0002level0_row6\" class=\"row_heading level0 row6\" >6</th>\n",
              "                        <td id=\"T_81807dc0_7120_11eb_ac2b_0242ac1c0002row6_col0\" class=\"data row6 col0\" >29%</td>\n",
              "                        <td id=\"T_81807dc0_7120_11eb_ac2b_0242ac1c0002row6_col1\" class=\"data row6 col1\" >2%</td>\n",
              "                        <td id=\"T_81807dc0_7120_11eb_ac2b_0242ac1c0002row6_col2\" class=\"data row6 col2\" >1.827328</td>\n",
              "                        <td id=\"T_81807dc0_7120_11eb_ac2b_0242ac1c0002row6_col3\" class=\"data row6 col3\" >31%</td>\n",
              "                        <td id=\"T_81807dc0_7120_11eb_ac2b_0242ac1c0002row6_col4\" class=\"data row6 col4\" >2%</td>\n",
              "                        <td id=\"T_81807dc0_7120_11eb_ac2b_0242ac1c0002row6_col5\" class=\"data row6 col5\" >1.834797</td>\n",
              "            </tr>\n",
              "            <tr>\n",
              "                        <th id=\"T_81807dc0_7120_11eb_ac2b_0242ac1c0002level0_row7\" class=\"row_heading level0 row7\" >7</th>\n",
              "                        <td id=\"T_81807dc0_7120_11eb_ac2b_0242ac1c0002row7_col0\" class=\"data row7 col0\" >50%</td>\n",
              "                        <td id=\"T_81807dc0_7120_11eb_ac2b_0242ac1c0002row7_col1\" class=\"data row7 col1\" >12%</td>\n",
              "                        <td id=\"T_81807dc0_7120_11eb_ac2b_0242ac1c0002row7_col2\" class=\"data row7 col2\" >18.710166</td>\n",
              "                        <td id=\"T_81807dc0_7120_11eb_ac2b_0242ac1c0002row7_col3\" class=\"data row7 col3\" >48%</td>\n",
              "                        <td id=\"T_81807dc0_7120_11eb_ac2b_0242ac1c0002row7_col4\" class=\"data row7 col4\" >13%</td>\n",
              "                        <td id=\"T_81807dc0_7120_11eb_ac2b_0242ac1c0002row7_col5\" class=\"data row7 col5\" >18.738428</td>\n",
              "            </tr>\n",
              "            <tr>\n",
              "                        <th id=\"T_81807dc0_7120_11eb_ac2b_0242ac1c0002level0_row8\" class=\"row_heading level0 row8\" >8</th>\n",
              "                        <td id=\"T_81807dc0_7120_11eb_ac2b_0242ac1c0002row8_col0\" class=\"data row8 col0\" >29%</td>\n",
              "                        <td id=\"T_81807dc0_7120_11eb_ac2b_0242ac1c0002row8_col1\" class=\"data row8 col1\" >7%</td>\n",
              "                        <td id=\"T_81807dc0_7120_11eb_ac2b_0242ac1c0002row8_col2\" class=\"data row8 col2\" >5.737332</td>\n",
              "                        <td id=\"T_81807dc0_7120_11eb_ac2b_0242ac1c0002row8_col3\" class=\"data row8 col3\" >30%</td>\n",
              "                        <td id=\"T_81807dc0_7120_11eb_ac2b_0242ac1c0002row8_col4\" class=\"data row8 col4\" >6%</td>\n",
              "                        <td id=\"T_81807dc0_7120_11eb_ac2b_0242ac1c0002row8_col5\" class=\"data row8 col5\" >5.737080</td>\n",
              "            </tr>\n",
              "            <tr>\n",
              "                        <th id=\"T_81807dc0_7120_11eb_ac2b_0242ac1c0002level0_row9\" class=\"row_heading level0 row9\" >9</th>\n",
              "                        <td id=\"T_81807dc0_7120_11eb_ac2b_0242ac1c0002row9_col0\" class=\"data row9 col0\" >70%</td>\n",
              "                        <td id=\"T_81807dc0_7120_11eb_ac2b_0242ac1c0002row9_col1\" class=\"data row9 col1\" >10%</td>\n",
              "                        <td id=\"T_81807dc0_7120_11eb_ac2b_0242ac1c0002row9_col2\" class=\"data row9 col2\" >21.645828</td>\n",
              "                        <td id=\"T_81807dc0_7120_11eb_ac2b_0242ac1c0002row9_col3\" class=\"data row9 col3\" >77%</td>\n",
              "                        <td id=\"T_81807dc0_7120_11eb_ac2b_0242ac1c0002row9_col4\" class=\"data row9 col4\" >9%</td>\n",
              "                        <td id=\"T_81807dc0_7120_11eb_ac2b_0242ac1c0002row9_col5\" class=\"data row9 col5\" >21.618980</td>\n",
              "            </tr>\n",
              "    </tbody></table>"
            ],
            "text/plain": [
              "<pandas.io.formats.style.Styler at 0x7f5994489c88>"
            ]
          },
          "metadata": {
            "tags": []
          },
          "execution_count": 159
        }
      ]
    },
    {
      "cell_type": "code",
      "metadata": {
        "colab": {
          "base_uri": "https://localhost:8080/"
        },
        "id": "HYytl1qpnxT2",
        "outputId": "41eb7395-f653-40fe-ddca-0647535482b9"
      },
      "source": [
        "excerpt = qboldnn.data\n",
        "x = excerpt.to_numpy()[:,4:]\n",
        "y = excerpt.to_numpy()[:,2]\n",
        "predictions = qboldnn.predict_model(x)\n",
        "excerpt = pd.concat([excerpt, predictions], axis=1)\n",
        "r2p_error = np.abs(np.diff(excerpt[['R2P', 'R2P(P)']].to_numpy())).mean()\n",
        "dbv_error = np.abs(np.diff(excerpt[['DBV', 'DBV(P)']].to_numpy())).mean()\n",
        "oef_error = np.abs(np.diff(excerpt[['OEF', 'OEF(P)']].to_numpy())).mean()\n",
        "print(f'Total MAE:{r2p_error+dbv_error+oef_error:.4f}, R2P:{r2p_error:.4f}, DBV:{dbv_error:.4f}, OEF:{oef_error:.4f}')"
      ],
      "execution_count": 160,
      "outputs": [
        {
          "output_type": "stream",
          "text": [
            "Total MAE:0.0424, R2P:0.0155, DBV:0.0035, OEF:0.0234\n"
          ],
          "name": "stdout"
        }
      ]
    },
    {
      "cell_type": "code",
      "metadata": {
        "colab": {
          "base_uri": "https://localhost:8080/"
        },
        "id": "1MUffDC9F-kS",
        "outputId": "cc356ab1-fba2-4b61-b946-eca37687325f"
      },
      "source": [
        "r2p_error+dbv_error+oef_error"
      ],
      "execution_count": 161,
      "outputs": [
        {
          "output_type": "execute_result",
          "data": {
            "text/plain": [
              "0.0423749397347072"
            ]
          },
          "metadata": {
            "tags": []
          },
          "execution_count": 161
        }
      ]
    },
    {
      "cell_type": "code",
      "metadata": {
        "colab": {
          "base_uri": "https://localhost:8080/",
          "height": 517
        },
        "id": "ZdHsoVsD7mIO",
        "cellView": "form",
        "outputId": "3c34a348-356c-4a59-e6c6-ccc0fc924845"
      },
      "source": [
        "#@title What does data look like for cases with large loss? (Double-click to open)\n",
        "excerpt = qboldnn.data\n",
        "x = excerpt.to_numpy()[:,4:]\n",
        "y = excerpt.to_numpy()[:,2]\n",
        "predictions = qboldnn.predict_model(x)\n",
        "excerpt = pd.concat([excerpt, predictions], axis=1)\n",
        "excerpt[['OEF', 'DBV', 'R2P', 'OEF(P)', 'DBV(P)', 'R2P(P)']]\n",
        "excerpt['Loss'] = np.abs(y-predictions['R2P(P)'])\n",
        "print(excerpt.sort_values(by=['Loss'])[['OEF', 'DBV', 'R2P', 'OEF(P)', 'DBV(P)', 'R2P(P)', 'Loss']])\n",
        "best = excerpt.sort_values(by=['Loss']).to_numpy()[0]\n",
        "worst = excerpt.sort_values(by=['Loss'], ascending=False).to_numpy()[0]\n",
        "\n",
        "plt.scatter(qboldnn.taus, best[4:15], marker='x', c='green')\n",
        "plt.scatter(qboldnn.taus, worst[4:15], c='red')\n",
        "plt.show()"
      ],
      "execution_count": 162,
      "outputs": [
        {
          "output_type": "stream",
          "text": [
            "           OEF       DBV        R2P    OEF(P)    DBV(P)     R2P(P)      Loss\n",
            "2269  0.311111  0.105455   9.899137  0.316709  0.103590   9.899135  0.000002\n",
            "1841  0.290909  0.063879   5.606999  0.303472  0.061234   5.607005  0.000006\n",
            "2052  0.301010  0.080212   7.285134  0.310055  0.077872   7.285128  0.000006\n",
            "8663  0.634343  0.096545  18.478758  0.650523  0.094144  18.478765  0.000008\n",
            "1946  0.295960  0.071303   6.367323  0.306752  0.068794   6.367313  0.000010\n",
            "...        ...       ...        ...       ...       ...        ...       ...\n",
            "198   0.205051  0.148515   9.188574  0.237498  0.127119   9.109349  0.079224\n",
            "97    0.200000  0.147030   8.872650  0.234017  0.124429   8.785878  0.086772\n",
            "199   0.205051  0.150000   9.280441  0.238380  0.127790   9.191454  0.088987\n",
            "98    0.200000  0.148515   8.962254  0.234911  0.125079   8.865545  0.096709\n",
            "99    0.200000  0.150000   9.051858  0.235796  0.125730   8.945211  0.106647\n",
            "\n",
            "[10000 rows x 7 columns]\n"
          ],
          "name": "stdout"
        },
        {
          "output_type": "display_data",
          "data": {
            "image/png": "[encoded data removed]",
            "text/plain": [
              "<Figure size 432x288 with 1 Axes>"
            ]
          },
          "metadata": {
            "tags": [],
            "needs_background": "light"
          }
        }
      ]
    }
  ]
}